{
 "cells": [
  {
   "cell_type": "code",
   "execution_count": null,
   "metadata": {
    "collapsed": true
   },
   "outputs": [],
   "source": [
    "import datetime"
   ]
  },
  {
   "cell_type": "code",
   "execution_count": null,
   "metadata": {
    "collapsed": true
   },
   "outputs": [],
   "source": [
    "import pandas as pd\n",
    "import pickle\n",
    "from collections import Counter\n",
    "import glob"
   ]
  },
  {
   "cell_type": "code",
   "execution_count": null,
   "metadata": {
    "collapsed": true
   },
   "outputs": [],
   "source": [
    "dd=pd.read_stata('Sentencing/sentencing_since_1991.dta')"
   ]
  },
  {
   "cell_type": "code",
   "execution_count": null,
   "metadata": {
    "collapsed": true
   },
   "outputs": [],
   "source": [
    "def combinations(line):\n",
    "    l = line.strip().split(',')\n",
    "    combs=[]        \n",
    "    for i in range(2, len(l)+1):\n",
    "        els = [\",\".join(x) for x in itertools.combinations(l, i)]\n",
    "        combs.extend(els)\n",
    "    return combs"
   ]
  },
  {
   "cell_type": "code",
   "execution_count": null,
   "metadata": {
    "collapsed": true
   },
   "outputs": [],
   "source": [
    "newdd=dd[['dateofsentencing','district','lengthofprisonsentence']]"
   ]
  },
  {
   "cell_type": "code",
   "execution_count": null,
   "metadata": {
    "collapsed": true
   },
   "outputs": [],
   "source": [
    "newdd=newdd[newdd.dateofsentencing.isnull()==False]"
   ]
  },
  {
   "cell_type": "code",
   "execution_count": null,
   "metadata": {
    "collapsed": true
   },
   "outputs": [],
   "source": [
    "newdd.dateofsentencing[newdd.dateofsentencing.astype(int)>500000]+=19000000"
   ]
  },
  {
   "cell_type": "code",
   "execution_count": null,
   "metadata": {
    "collapsed": true
   },
   "outputs": [],
   "source": [
    "newdd.dateofsentencing[newdd.dateofsentencing.astype(int)<=500000]+=20000000"
   ]
  },
  {
   "cell_type": "code",
   "execution_count": null,
   "metadata": {
    "collapsed": true
   },
   "outputs": [],
   "source": [
    "newdd['Date']=newdd.dateofsentencing.astype(int).astype(str)"
   ]
  },
  {
   "cell_type": "code",
   "execution_count": null,
   "metadata": {
    "collapsed": true
   },
   "outputs": [],
   "source": [
    "newdd['date']=pd.to_datetime(newdd['Date'])"
   ]
  },
  {
   "cell_type": "code",
   "execution_count": null,
   "metadata": {
    "collapsed": true
   },
   "outputs": [],
   "source": [
    "def convertlength(df):\n",
    "    orig_leng = df[\"lengthofprisonsentence\"]\n",
    "    if len(orig_leng) < 2:\n",
    "        return None\n",
    "    elif orig_leng[-1] == \"Y\":\n",
    "        return int(orig_leng[:-1])*12\n",
    "    elif orig_leng[-1] == \"M\":\n",
    "        return int(orig_leng[:-1])\n",
    "    else:\n",
    "        return None\n",
    "newdd[\"lengthofprisonsentence\"] = newdd.apply(convertlength, axis=1)"
   ]
  },
  {
   "cell_type": "code",
   "execution_count": null,
   "metadata": {
    "collapsed": true
   },
   "outputs": [],
   "source": [
    "newdd=newdd[newdd.lengthofprisonsentence.isnull()==False]\n",
    "newdd[['district','lengthofprisonsentence','id','date']]"
   ]
  },
  {
   "cell_type": "code",
   "execution_count": null,
   "metadata": {
    "collapsed": true
   },
   "outputs": [],
   "source": [
    "l=dd['Length of Prison Sentence'][dd['Length of Prison Sentence'].str.endswith('M')==True]\n",
    "\n",
    "s=l.astype(str).str[0:3]\n",
    "\n",
    "s=l.astype(str).str[0:3]\n",
    "\n",
    "s_r=s.reset_index()\n",
    "s_r=s_r['Length of Prison Sentence']"
   ]
  },
  {
   "cell_type": "code",
   "execution_count": null,
   "metadata": {
    "collapsed": true
   },
   "outputs": [],
   "source": [
    "meta=pickle.load(open(\"metadata.pkl\",\"rb\"))"
   ]
  },
  {
   "cell_type": "code",
   "execution_count": null,
   "metadata": {
    "collapsed": true
   },
   "outputs": [],
   "source": [
    "group=meta.groupby('caseid', as_index=False)['judgeidentificationnumber'].agg({'list':(lambda x: list(x))})"
   ]
  },
  {
   "cell_type": "code",
   "execution_count": null,
   "metadata": {
    "collapsed": true
   },
   "outputs": [],
   "source": [
    "merge1=pd.merge(meta, group, how='inner', left_on='caseid', right_on='caseid')"
   ]
  },
  {
   "cell_type": "code",
   "execution_count": null,
   "metadata": {
    "collapsed": true
   },
   "outputs": [],
   "source": [
    "merge1.rename(columns={'judgeidentificationnumber': 'judgeid1'}, inplace=True)"
   ]
  },
  {
   "cell_type": "code",
   "execution_count": null,
   "metadata": {
    "collapsed": true
   },
   "outputs": [],
   "source": [
    "merge1['judgeid1']=[item[0] for item in merge1.list]\n",
    "merge1['judgeid2']=[item[1] for item in merge1.list]\n",
    "merge1['judgeid3']=[item[2] for item in merge1.list]"
   ]
  },
  {
   "cell_type": "code",
   "execution_count": null,
   "metadata": {
    "collapsed": true
   },
   "outputs": [],
   "source": [
    "merge1=merge1.drop_duplicates('caseid')"
   ]
  },
  {
   "cell_type": "code",
   "execution_count": null,
   "metadata": {
    "collapsed": true
   },
   "outputs": [],
   "source": [
    "merge1.drop(['JudgesListTouse','geniss1','songername','jOrigname','judgelastname','list','yearq'],axis=1)"
   ]
  },
  {
   "cell_type": "code",
   "execution_count": null,
   "metadata": {
    "collapsed": true
   },
   "outputs": [],
   "source": [
    "meta=merge1"
   ]
  },
  {
   "cell_type": "code",
   "execution_count": null,
   "metadata": {
    "collapsed": true
   },
   "outputs": [],
   "source": [
    "cc=pickle.load( open( \"Sentencing/sentence_data.csv\", \"rb\" ) )"
   ]
  },
  {
   "cell_type": "code",
   "execution_count": null,
   "metadata": {
    "collapsed": true
   },
   "outputs": [],
   "source": [
    "bio=pd.read_csv('Bio/JudgeBio.csv')"
   ]
  },
  {
   "cell_type": "code",
   "execution_count": null,
   "metadata": {
    "collapsed": true
   },
   "outputs": [],
   "source": [
    "merge1=pd.merge(cc, meta, how='inner', left_on='caseid', right_on='caseid')"
   ]
  },
  {
   "cell_type": "code",
   "execution_count": null,
   "metadata": {
    "collapsed": true
   },
   "outputs": [],
   "source": [
    "merge2=pd.merge(merge1, bio, how='inner', left_on='judgeid1', right_on='id')"
   ]
  },
  {
   "cell_type": "code",
   "execution_count": null,
   "metadata": {
    "collapsed": true
   },
   "outputs": [],
   "source": [
    "merge3=pd.merge(merge2, bio, how='inner', left_on='judgeid2', right_on='id')"
   ]
  },
  {
   "cell_type": "code",
   "execution_count": null,
   "metadata": {
    "collapsed": true
   },
   "outputs": [],
   "source": [
    "merge4=pd.merge(merge3, bio, how='inner', left_on='judgeid3', right_on='id')"
   ]
  },
  {
   "cell_type": "code",
   "execution_count": null,
   "metadata": {
    "collapsed": true
   },
   "outputs": [],
   "source": [
    "merge4.to_pickle('merged_metadata_0326.pkl')"
   ]
  },
  {
   "cell_type": "code",
   "execution_count": null,
   "metadata": {
    "collapsed": true
   },
   "outputs": [],
   "source": [
    "cc=merge4\n",
    "\n",
    "cc['month_3_b']=cc.date+pd.DateOffset(months=-3)\n",
    "\n",
    "def find_date(df):\n",
    "    min_date = df[\"month_3_b\"]\n",
    "    date=df[\"date\"]\n",
    "    max_date = df[\"month_3\"]\n",
    "    a=dc[(dc['date'] >= date) & (dc['date'] <= max_date)].lengthofprisonsentence.mean()\n",
    "    b=dc[(dc['date'] >= min_date) & (dc['date'] <= date)].lengthofprisonsentence.mean()\n",
    "\n",
    "    return a-b\n",
    "\n",
    "cc[\"length_3m_dif\"] = cc.apply(find_date, axis=1)"
   ]
  },
  {
   "cell_type": "code",
   "execution_count": null,
   "metadata": {
    "collapsed": true
   },
   "outputs": [],
   "source": [
    "s=cc.dropna(subset = ['length_3m_dif'])"
   ]
  },
  {
   "cell_type": "code",
   "execution_count": null,
   "metadata": {},
   "outputs": [],
   "source": [
    "s['txt']=None"
   ]
  },
  {
   "cell_type": "code",
   "execution_count": null,
   "metadata": {
    "collapsed": true
   },
   "outputs": [],
   "source": [
    "import nltk\n",
    "from nltk.util import ngrams\n",
    "from io import open\n",
    "import unicodedata\n",
    "import string\n",
    "import re"
   ]
  },
  {
   "cell_type": "code",
   "execution_count": null,
   "metadata": {
    "collapsed": true
   },
   "outputs": [],
   "source": [
    "s.to_pickle('merged_metadata_dict.pkl')"
   ]
  },
  {
   "cell_type": "code",
   "execution_count": null,
   "metadata": {
    "collapsed": true
   },
   "outputs": [],
   "source": [
    "s['txt']=None"
   ]
  },
  {
   "cell_type": "code",
   "execution_count": null,
   "metadata": {
    "scrolled": true
   },
   "outputs": [],
   "source": [
    "for i,(year,ids,j) in enumerate(zip(s.year,s.caseid,s.judge_name)):\n",
    "    filepath = \"Sentencing/sentences_new/sent_\"+str(year)+\"/\"+ids+\"_*_\"+j+\"*.txt\"\n",
    "    txt = glob.glob(filepath)\n",
    "    with open (txt[0],encoding=\"utf8\") as f:\n",
    "        #c=Counter(list(f.read()))\n",
    "        text=f.read().lower()\n",
    "        text = re.sub(\"\\n\", ' ', text)\n",
    "        s.txt[i]=text"
   ]
  },
  {
   "cell_type": "code",
   "execution_count": null,
   "metadata": {
    "collapsed": true
   },
   "outputs": [],
   "source": [
    "s.to_pickle('training_data.pkl')"
   ]
  }
 ],
 "metadata": {
  "kernelspec": {
   "display_name": "Python 3",
   "language": "python",
   "name": "python3"
  },
  "language_info": {
   "codemirror_mode": {
    "name": "ipython",
    "version": 3
   },
   "file_extension": ".py",
   "mimetype": "text/x-python",
   "name": "python",
   "nbconvert_exporter": "python",
   "pygments_lexer": "ipython3",
   "version": "3.6.3"
  }
 },
 "nbformat": 4,
 "nbformat_minor": 2
}
